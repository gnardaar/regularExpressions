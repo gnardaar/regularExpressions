{
 "cells": [
  {
   "cell_type": "markdown",
   "metadata": {},
   "source": [
    "# Object-Oriented-Programming (OOP)"
   ]
  },
  {
   "cell_type": "markdown",
   "metadata": {},
   "source": [
    "## Tasks Today:\n",
    "\n",
    "   \n",
    "\n",
    "1) <b>Creating a Class (Initializing/Declaring)</b> <br>\n",
    "2) <b>Using a Class (Instantiating)</b> <br>\n",
    " &nbsp;&nbsp;&nbsp;&nbsp; a) Creating One Instance <br>\n",
    " &nbsp;&nbsp;&nbsp;&nbsp; b) Creating Multiple Instances <br>\n",
    " &nbsp;&nbsp;&nbsp;&nbsp; c) In-Class Exercise #1 - Create a Class 'Car' and instantiate three different makes of cars <br>\n",
    "3) <b>The \\__init\\__() Method</b> <br>\n",
    " &nbsp;&nbsp;&nbsp;&nbsp; a) The 'self' Attribute <br>\n",
    "4) <b>Class Attributes</b> <br>\n",
    " &nbsp;&nbsp;&nbsp;&nbsp; a) Initializing Attributes <br>\n",
    " &nbsp;&nbsp;&nbsp;&nbsp; b) Setting an Attribute Outside of the \\__init\\__() Method <br>\n",
    " &nbsp;&nbsp;&nbsp;&nbsp; c) Setting Defaults for Attributes <br>\n",
    " &nbsp;&nbsp;&nbsp;&nbsp; d) Accessing Class Attributes <br>\n",
    " &nbsp;&nbsp;&nbsp;&nbsp; e) Changing Class Attributes <br>\n",
    " &nbsp;&nbsp;&nbsp;&nbsp; f) In-Class Exercise #2 - Add a color and wheels attribute to your 'Car' class <br>\n",
    "5) <b>Class Methods</b> <br>\n",
    " &nbsp;&nbsp;&nbsp;&nbsp; a) Creating <br>\n",
    " &nbsp;&nbsp;&nbsp;&nbsp; b) Calling <br>\n",
    " &nbsp;&nbsp;&nbsp;&nbsp; c) Modifying an Attribute's Value Through a Method <br>\n",
    " &nbsp;&nbsp;&nbsp;&nbsp; d) Incrementing an Attribute's Value Through a Method <br>\n",
    " &nbsp;&nbsp;&nbsp;&nbsp; e) In-Class Exercise #3 - Add a method that prints the cars color and wheel number, then call them <br>\n",
    "6) <b>Inheritance</b> <br>\n",
    " &nbsp;&nbsp;&nbsp;&nbsp; a) Syntax for Inheriting from a Parent Class <br>\n",
    " &nbsp;&nbsp;&nbsp;&nbsp; b) The \\__init\\__() Method for a Child Class (super()) <br>\n",
    " &nbsp;&nbsp;&nbsp;&nbsp; c) Defining Attributes and Methods for the Child Class <br>\n",
    " &nbsp;&nbsp;&nbsp;&nbsp; d) Method Overriding <br>\n",
    " &nbsp;&nbsp;&nbsp;&nbsp; e) In-Class Exercise #4 - Create a class 'Ford' that inherits from 'Car' class and initialize it as a Blue Ford Explorer with 4 wheels using the super() method <br>\n",
    "7) <b>Classes as Attributes</b> <br>\n",
    "8) <b>Exercises</b> <br>\n",
    " &nbsp;&nbsp;&nbsp;&nbsp; a) Exercise #1 - Turn the shopping cart program from yesterday into an object-oriented program <br>"
   ]
  },
  {
   "cell_type": "markdown",
   "metadata": {},
   "source": [
    "## Creating a Class (Initializing/Declaring)\n",
    "<p>When creating a class, function, or even a variable you are initializing that object. Initializing and Declaring occur at the same time in Python, whereas in lower level languages you have to declare an object before initializing it. This is the first step in the process of using a class.</p>"
   ]
  },
  {
   "cell_type": "code",
   "execution_count": 45,
   "metadata": {},
   "outputs": [],
   "source": [
    "class Car():\n",
    "    wheels = 4\n",
    "    color = 'blue'\n",
    "#   windsheild-wipers = 'wee woo wee woo!'\n",
    "\n",
    "    def headlights():\n",
    "        print('tlurn them on for saftey, do not crash into a pedestrian!... tha\\'s a different story/ lesson....')\n",
    "beater = Car()"
   ]
  },
  {
   "cell_type": "markdown",
   "metadata": {},
   "source": [
    "## Using a Class (Instantiating)\n",
    "<p>The process of creating a class is called <i>Instantiating</i>. Each time you create a variable of that type of class, it is referred to as an <i>Instance</i> of that class. This is the second step in the process of using a class.</p>"
   ]
  },
  {
   "cell_type": "markdown",
   "metadata": {},
   "source": [
    "##### Creating One Instance"
   ]
  },
  {
   "cell_type": "code",
   "execution_count": 46,
   "metadata": {},
   "outputs": [
    {
     "name": "stdout",
     "output_type": "stream",
     "text": [
      "blue\n"
     ]
    }
   ],
   "source": [
    "ford = Car()\n",
    "# chevey  = car()\n",
    "# print(Car)\n",
    "print(ford.color)\n",
    "# print(ford.widshield-wipers)"
   ]
  },
  {
   "cell_type": "markdown",
   "metadata": {},
   "source": [
    "##### Creating Multiple Instances"
   ]
  },
  {
   "cell_type": "code",
   "execution_count": 47,
   "metadata": {},
   "outputs": [
    {
     "name": "stdout",
     "output_type": "stream",
     "text": [
      "<class 'str'>\n"
     ]
    }
   ],
   "source": [
    "chevey = Car()\n",
    "honda = Car()\n",
    "mazda = Car()\n",
    "print(type(mazda.color))"
   ]
  },
  {
   "cell_type": "markdown",
   "metadata": {},
   "source": [
    "##### In-Class Exercise #1 - Create a Class 'Car' and Instantiate three different makes of cars"
   ]
  },
  {
   "cell_type": "code",
   "execution_count": 48,
   "metadata": {},
   "outputs": [
    {
     "name": "stdout",
     "output_type": "stream",
     "text": [
      "black\n",
      "4\n",
      "12\n"
     ]
    }
   ],
   "source": [
    "class Cars():\n",
    "    doors = 12\n",
    "    wheels = 4\n",
    "    color = 'black'\n",
    "chevey = Cars()\n",
    "honda = Cars()\n",
    "mazda = Cars()\n",
    "\n",
    "print(chevey.color)\n",
    "print(honda.wheels)\n",
    "print(mazda.doors)"
   ]
  },
  {
   "cell_type": "markdown",
   "metadata": {},
   "source": [
    "## The \\__init\\__() Method <br>\n",
    "<p>This method is used in almost every created class, and called only once upon the creation of the class instance. This method will initialize all variables needed for the object.</p>"
   ]
  },
  {
   "cell_type": "code",
   "execution_count": 62,
   "metadata": {},
   "outputs": [
    {
     "name": "stdout",
     "output_type": "stream",
     "text": [
      "<class '__main__.Car'>\n",
      "yellow\n"
     ]
    }
   ],
   "source": [
    "class Car():\n",
    "    engine = '2.3L'                  # this is global within the class, any func within the class can call opon this variable.\n",
    "    def __init__(self, color, wheels):\n",
    "        self.color = color          # make sure that you use double __ for the init \"_\"+\"_\"+init+\"_\"+\"_ \"\n",
    "        self.wheels = wheels\n",
    "        \n",
    "mazda = Car('black', 4)\n",
    "subaru = Car('yellow', 120000)\n",
    "\n",
    "print(subaru.color)"
   ]
  },
  {
   "cell_type": "markdown",
   "metadata": {},
   "source": [
    "##### The 'self' Attribute <br>\n",
    "<p>This attribute is required to keep track of specific instance's attributes. Without the self attribute, the program would not know how to reference or keep track of an instance's attributes.</p>"
   ]
  },
  {
   "cell_type": "code",
   "execution_count": 108,
   "metadata": {},
   "outputs": [],
   "source": [
    "# see above\n",
    "class House():\n",
    "    def __init__(self, walls,dishes):\n",
    "        self.dishes = dishes\n",
    "        \n",
    "        self.walls = walls\n",
    "    def washer(self, dishes):\n",
    "        if self.dishes.lower() == 'dirty':\n",
    "            return 'clean'\n",
    "    def rockClimbingWall(self,wall):\n",
    "        if self.walls.lower()== 'yes':\n",
    "            return 'rock on man'\n",
    "        else:\n",
    "            return \"why wouldn't you want a rock wall in your house?\"\n",
    "\n",
    "\n",
    "andy_house = House('dirty','yes')\n",
    "\n",
    "andy_house.washer(\"yes\")\n",
    "# andy_house.rockClimbingWall('yes')\n"
   ]
  },
  {
   "cell_type": "markdown",
   "metadata": {},
   "source": [
    "## Class Attributes <br>\n",
    "<p>While variables are inside of a class, they are referred to as attributes and not variables. When someone says 'attribute' you know they're speaking about a class. Attributes can be initialized through the init method, or outside of it.</p>"
   ]
  },
  {
   "cell_type": "markdown",
   "metadata": {},
   "source": [
    "##### Initializing Attributes"
   ]
  },
  {
   "cell_type": "code",
   "execution_count": 66,
   "metadata": {},
   "outputs": [
    {
     "data": {
      "text/plain": [
       "8"
      ]
     },
     "execution_count": 66,
     "metadata": {},
     "output_type": "execute_result"
    }
   ],
   "source": [
    "class toy():\n",
    "    kind = 'car'\n",
    "    \n",
    "    def __init__(self, rooftop, hora, wheels):\n",
    "        self.rooftop = rooftop\n",
    "        self.hora = hora \n",
    "        self.wheels = wheels\n",
    "\n",
    "    \n",
    "tonka_truck = toy(1,1,4)\n",
    "hotwheels_car = toy(2,3,8)\n",
    "\n"
   ]
  },
  {
   "cell_type": "markdown",
   "metadata": {},
   "source": [
    "##### Accessing Class Attributes"
   ]
  },
  {
   "cell_type": "code",
   "execution_count": 67,
   "metadata": {
    "scrolled": true
   },
   "outputs": [
    {
     "data": {
      "text/plain": [
       "8"
      ]
     },
     "execution_count": 67,
     "metadata": {},
     "output_type": "execute_result"
    }
   ],
   "source": [
    "tonka_truck.rooftop\n",
    "hotwheels_car.wheels"
   ]
  },
  {
   "cell_type": "markdown",
   "metadata": {},
   "source": [
    "##### Setting Defaults for Attributes"
   ]
  },
  {
   "cell_type": "code",
   "execution_count": 69,
   "metadata": {},
   "outputs": [
    {
     "data": {
      "text/plain": [
       "4"
      ]
     },
     "execution_count": 69,
     "metadata": {},
     "output_type": "execute_result"
    }
   ],
   "source": [
    "class Car():\n",
    "    engine = '4.7L'\n",
    "    def __init__(self,wheels):\n",
    "        self.wheels = wheels\n",
    "        self.color = 'blue'\n",
    "\n",
    "honda = Car(4)\n",
    "honda.color\n",
    "honda.wheels"
   ]
  },
  {
   "cell_type": "markdown",
   "metadata": {},
   "source": [
    "##### Changing Class Attributes <br>\n",
    "<p>Keep in mind there are global class attributes and then there are attributes only available to each class instance which won't effect other classes.</p>"
   ]
  },
  {
   "cell_type": "code",
   "execution_count": 70,
   "metadata": {},
   "outputs": [
    {
     "name": "stdout",
     "output_type": "stream",
     "text": [
      "before change: blue\n",
      "after change: white\n",
      "blue\n"
     ]
    }
   ],
   "source": [
    "jeep = Car(9)\n",
    "print(f\"before change: {jeep.color}\")\n",
    "jeep.color = 'white'\n",
    "print(f'after change: {jeep.color}')\n",
    "print(honda.color)"
   ]
  },
  {
   "cell_type": "code",
   "execution_count": null,
   "metadata": {},
   "outputs": [],
   "source": []
  },
  {
   "cell_type": "markdown",
   "metadata": {},
   "source": [
    "##### In-Class Exercise #2 - Add a doors and seats attribute to your 'Car' class then print out two different instances with different doors and seats"
   ]
  },
  {
   "cell_type": "code",
   "execution_count": 105,
   "metadata": {},
   "outputs": [
    {
     "name": "stdout",
     "output_type": "stream",
     "text": [
      "toyota seats: 4, and toyota doors: 4\n",
      "porche seats: 2, and porche doors: 4\n"
     ]
    }
   ],
   "source": [
    "class Car():\n",
    "    def __init__(self, doors, seats=2):\n",
    "        self.doors = doors\n",
    "        self.seats = seats\n",
    "toyota = Car(4,4)\n",
    "porche = Car(4)\n",
    "print(f\"toyota seats: {toyota.seats}, and toyota doors: {toyota.doors}\")\n",
    "print(f\"porche seats: {porche.seats}, and porche doors: {porche.doors}\")"
   ]
  },
  {
   "cell_type": "markdown",
   "metadata": {},
   "source": [
    "## Class Methods <br>\n",
    "<p>While inside of a class, functions are referred to as 'methods'. If you hear someone mention methods, they're speaking about classes. Methods are essentially functions, but only callable on the instances of a class.</p>"
   ]
  },
  {
   "cell_type": "markdown",
   "metadata": {},
   "source": [
    "##### Creating"
   ]
  },
  {
   "cell_type": "code",
   "execution_count": 195,
   "metadata": {},
   "outputs": [],
   "source": [
    "class ShoppingBag():\n",
    "    \n",
    "    \"\"\"\n",
    "    the shopping bag class will have handles, capacity,\n",
    "    and items to place inside\n",
    "    \n",
    "    Attributes for the class:\n",
    "    -handles are expected to be an int\n",
    "    -capacity can be a string or an integer\n",
    "    -items are a list\n",
    "    \"\"\"\n",
    "    \n",
    "    def __init__(self,handles,capacity,items):\n",
    "        self.handles = handles\n",
    "        self.capacity = capacity\n",
    "        self.items = items\n",
    "        \n",
    "    #writing a funcion to veiw what is in the bag: item list\n",
    "    \n",
    "    \n",
    "    def showBag(self):\n",
    "        print('you have items in your bag!')\n",
    "        for item in self.items:\n",
    "            print(item)\n",
    "            \n",
    "    #showing the capacity\n",
    "    def showCapacity(self):\n",
    "        print(f\"your capacity is: {self.capacity}\")\n",
    "        \n",
    "    #adding products to the bag\n",
    "    def addToShoppingBag(self):\n",
    "        product = input('what would you like to add to bag?')\n",
    "        self.items.append(product)\n",
    "        \n",
    "    # changing the capacity of the bag\n",
    "    def changeBagCapacity(self,capacity):\n",
    "        self.capacity = capacity\n",
    "        \n",
    "    # increase the capacity of the shopping bag by default that we set to ten\n",
    "    def increaseCapacity(self):\n",
    "        if self.capacity == isinstance(self.capacity, str):\n",
    "            print(\"we can't add that here\")\n",
    "        else:\n",
    "            self.capactity += changed_capacity \n",
    "            \n",
    "        "
   ]
  },
  {
   "cell_type": "markdown",
   "metadata": {},
   "source": [
    "##### Calling"
   ]
  },
  {
   "cell_type": "code",
   "execution_count": 196,
   "metadata": {},
   "outputs": [
    {
     "name": "stdout",
     "output_type": "stream",
     "text": [
      "what do you want to do? add/show/quit add\n",
      "what would you like to add to bag?12\n",
      "what do you want to do? add/show/quit 12\n",
      "do a legitamate seggestion\n",
      "what do you want to do? add/show/quit show\n",
      "you have items in your bag!\n",
      "12\n",
      "what do you want to do? add/show/quit quit\n",
      "you have items in your bag!\n",
      "12\n",
      "thanks for shopping!\n"
     ]
    }
   ],
   "source": [
    "walmart_shopping_bag = ShoppingBag(2,10,[])\n",
    "\n",
    "def run():\n",
    "    while True:\n",
    "        response = input('what do you want to do? add/show/quit ')\n",
    "        \n",
    "        if response.lower() == 'quit':\n",
    "            walmart_shopping_bag.showBag()\n",
    "            print('thanks for shopping!')\n",
    "            break\n",
    "        elif response.lower() == 'add':\n",
    "            walmart_shopping_bag.addToShoppingBag()\n",
    "        elif response.lower() == 'show':\n",
    "            walmart_shopping_bag.showBag()\n",
    "        else:\n",
    "            print('do a legitamate seggestion')\n",
    "            \n",
    "run()"
   ]
  },
  {
   "cell_type": "markdown",
   "metadata": {},
   "source": [
    "##### Modifying an Attribute's Value Through a Method"
   ]
  },
  {
   "cell_type": "code",
   "execution_count": null,
   "metadata": {},
   "outputs": [],
   "source": [
    "walmart_shopping_bag.showCapacity()\n",
    "print('capacity after the changes...')\n",
    "walmart_shopping_bag.changeBagCapacity(40)\n",
    "walmart_shopping_bag.showCapacity()"
   ]
  },
  {
   "cell_type": "markdown",
   "metadata": {},
   "source": [
    "##### Incrementing an Attribute's Value Through a Method"
   ]
  },
  {
   "cell_type": "code",
   "execution_count": null,
   "metadata": {},
   "outputs": [],
   "source": [
    "walmart_shopping_bag.showCapacity()\n",
    "print('after increase:')\n",
    "walmart_shopping_bag.()\n",
    "\n",
    "walmart_shopping_bag.showBag()\n",
    "walmart_shopping_bag.showCapacity()"
   ]
  },
  {
   "cell_type": "markdown",
   "metadata": {},
   "source": [
    "##### In-Class Exercise #3 - Add a method that takes in three parameters of year, doors and seats and prints out a formatted print statement with make, model, year, seats, and doors"
   ]
  },
  {
   "cell_type": "code",
   "execution_count": 132,
   "metadata": {},
   "outputs": [
    {
     "name": "stdout",
     "output_type": "stream",
     "text": [
      "what is the model of your vehicle?elee\n"
     ]
    },
    {
     "ename": "AttributeError",
     "evalue": "'str' object has no attribute 'items'",
     "output_type": "error",
     "traceback": [
      "\u001b[1;31m---------------------------------------------------------------------------\u001b[0m",
      "\u001b[1;31mAttributeError\u001b[0m                            Traceback (most recent call last)",
      "Input \u001b[1;32mIn [132]\u001b[0m, in \u001b[0;36m<cell line: 9>\u001b[1;34m()\u001b[0m\n\u001b[0;32m      7\u001b[0m         car_model \u001b[38;5;241m=\u001b[39m \u001b[38;5;28minput\u001b[39m(\u001b[38;5;124m'\u001b[39m\u001b[38;5;124mwhat is the model of your vehicle?\u001b[39m\u001b[38;5;124m'\u001b[39m)\n\u001b[0;32m      8\u001b[0m         \u001b[38;5;28mself\u001b[39m\u001b[38;5;241m.\u001b[39mitems\u001b[38;5;241m.\u001b[39mappend(car_model)\n\u001b[1;32m----> 9\u001b[0m \u001b[43mcar\u001b[49m\u001b[38;5;241;43m.\u001b[39;49m\u001b[43mmodel\u001b[49m\u001b[43m(\u001b[49m\u001b[38;5;124;43m\"\u001b[39;49m\u001b[38;5;124;43mhonda\u001b[39;49m\u001b[38;5;124;43m\"\u001b[39;49m\u001b[43m)\u001b[49m\n",
      "Input \u001b[1;32mIn [132]\u001b[0m, in \u001b[0;36mcar.model\u001b[1;34m(self)\u001b[0m\n\u001b[0;32m      6\u001b[0m \u001b[38;5;28;01mdef\u001b[39;00m \u001b[38;5;21mmodel\u001b[39m(\u001b[38;5;28mself\u001b[39m):\n\u001b[0;32m      7\u001b[0m     car_model \u001b[38;5;241m=\u001b[39m \u001b[38;5;28minput\u001b[39m(\u001b[38;5;124m'\u001b[39m\u001b[38;5;124mwhat is the model of your vehicle?\u001b[39m\u001b[38;5;124m'\u001b[39m)\n\u001b[1;32m----> 8\u001b[0m     \u001b[38;5;28;43mself\u001b[39;49m\u001b[38;5;241;43m.\u001b[39;49m\u001b[43mitems\u001b[49m\u001b[38;5;241m.\u001b[39mappend(car_model)\n",
      "\u001b[1;31mAttributeError\u001b[0m: 'str' object has no attribute 'items'"
     ]
    }
   ],
   "source": [
    "class car():\n",
    "    def __init__(self, make, model,items):\n",
    "        self.make = make\n",
    "        self.model = model\n",
    "        self.items = items\n",
    "    def model(self):\n",
    "        car_model = input('what is the model of your vehicle?')\n",
    "        self.items.append(car_model)\n",
    "car.model(\"honda\") \n"
   ]
  },
  {
   "cell_type": "markdown",
   "metadata": {},
   "source": [
    "## Inheritance <br>\n",
    "<p>You can create a child-parent relationship between two classes by using inheritance. What this allows you to do is have overriding methods, but also inherit traits from the parent class. Think of it as an actual parent and child, the child will inherit the parent's genes, as will the classes in OOP</p>"
   ]
  },
  {
   "cell_type": "markdown",
   "metadata": {},
   "source": [
    "##### Syntax for Inheriting from a Parent Class"
   ]
  },
  {
   "cell_type": "code",
   "execution_count": 149,
   "metadata": {},
   "outputs": [
    {
     "name": "stdout",
     "output_type": "stream",
     "text": [
      "make som generic sound\n",
      "None\n",
      "bark\n",
      "im a good boy/ girl\n",
      "None\n"
     ]
    }
   ],
   "source": [
    "#creating a parent class\n",
    "class Animal():\n",
    "    acceleration = 9.8\n",
    "    def __init__(self,name,species,legs=4):\n",
    "        self.name = name\n",
    "        self.species = species\n",
    "        self.legs = legs\n",
    "    # Generic parent method - not overriding anything.\n",
    "    def makeSound(self):\n",
    "        print('make som generic sound')\n",
    "#now we have child class\n",
    "class Dog(Animal):\n",
    "    speed = 15\n",
    "    def printInfo(self):\n",
    "        print(f\"the Dog has {self.speed} mph in speed and {self.acceleration}\")\n",
    "class Mutt(Dog):\n",
    "    color = 'tan'\n",
    "    \n",
    "    #overriding the animal class-using the dog class to overwrite the __init__from Animal\n",
    "    def __init__(self,name, species, eye_color,legs = 4):\n",
    "    \n",
    "        Dog.__init__(self,name,species,legs)\n",
    "        self.eye_color = eye_color\n",
    "        \n",
    "        \n",
    "        #overwriting the makeSound method (which is coming from.... Animal)\n",
    "    def makeSound(self):\n",
    "        noise = 'bark'\n",
    "        return noise\n",
    "    def wagTail(self,happy):\n",
    "        self.happy = happy\n",
    "        if self.happy == 'happy':\n",
    "            print('im a good boy/ girl')\n",
    "        else:\n",
    "            print('please love me...')\n",
    "    \n",
    "    \n",
    "buster = Mutt('buster','mutt','brown')\n",
    "lassie = Dog('Lassie','dog')\n",
    "print(lassie.makeSound())\n",
    "print(buster.makeSound())\n",
    "print(buster.wagTail('happy'))"
   ]
  },
  {
   "cell_type": "markdown",
   "metadata": {},
   "source": [
    "##### The \\__init\\__() Method for a Child Class - super()"
   ]
  },
  {
   "cell_type": "code",
   "execution_count": 183,
   "metadata": {
    "scrolled": true
   },
   "outputs": [
    {
     "name": "stdout",
     "output_type": "stream",
     "text": [
      "<__main__.Mutt object at 0x000001D3D4A56970>\n",
      "make som generic sound\n",
      "None\n",
      "bark\n",
      "9.8\n",
      "15\n"
     ]
    }
   ],
   "source": [
    "class puppy(Dog):\n",
    "    def __init__(self,name,eye_color,legs = 4):\n",
    "        super().__init__(name.species.legs)\n",
    "        self.eye_color = eye_color\n",
    "    \n",
    "    def makeSound(self):\n",
    "        noise = 'Bark'\n",
    "        return noise\n",
    "print(buster)\n",
    "print(lassie.makeSound())\n",
    "print(buster.makeSound())\n",
    "print(buster.acceleration)\n",
    "print(buster.speed)"
   ]
  },
  {
   "cell_type": "markdown",
   "metadata": {},
   "source": [
    "##### Defining Attributes and Methods for the Child Class"
   ]
  },
  {
   "cell_type": "code",
   "execution_count": null,
   "metadata": {},
   "outputs": [],
   "source": [
    "# See Above"
   ]
  },
  {
   "cell_type": "markdown",
   "metadata": {},
   "source": [
    "##### Method Overriding"
   ]
  },
  {
   "cell_type": "code",
   "execution_count": null,
   "metadata": {},
   "outputs": [],
   "source": [
    "# See Above"
   ]
  },
  {
   "cell_type": "markdown",
   "metadata": {},
   "source": [
    "## Classes as Attributes <br>\n",
    "<p>Classes can also be used as attributes within another class. This is useful in situations where you need to keep variables locally stored, instead of globally stored.</p>"
   ]
  },
  {
   "cell_type": "code",
   "execution_count": 175,
   "metadata": {},
   "outputs": [
    {
     "name": "stdout",
     "output_type": "stream",
     "text": [
      "20\n",
      "10\n"
     ]
    }
   ],
   "source": [
    "class Battery():\n",
    "    voltz = 7.8\n",
    "    def __init__(self,cells):\n",
    "        self.cells = cells\n",
    "\n",
    "class Car():\n",
    "    def __init__(self,make,model,year,battery):\n",
    "        self.make = make\n",
    "        self.model = model\n",
    "        self.year = year\n",
    "        self.battery = battery \n",
    "    def printInfo(self):\n",
    "        return f'{self.year} {self.model}{self.battery.cells}'\n",
    "my_battery = Battery(20)\n",
    "acura = Car(2001, 'acura','TL',my_battery)\n",
    "\n",
    "print(acura.battery.cells)\n",
    "acura.printInfo()\n",
    "Battery.cells = 30\n",
    "print(Battery.cells - 20)"
   ]
  },
  {
   "cell_type": "markdown",
   "metadata": {},
   "source": [
    "# Exercises"
   ]
  },
  {
   "cell_type": "markdown",
   "metadata": {},
   "source": [
    "### Exercise 1 - Turn the shopping cart program from yesterday into an object-oriented program\n",
    "\n",
    "The comments in the cell below are there as a guide for thinking about the problem. However, if you feel a different way is best for you and your own thought process, please do what feels best for you by all means."
   ]
  },
  {
   "cell_type": "code",
   "execution_count": null,
   "metadata": {},
   "outputs": [
    {
     "ename": "IndentationError",
     "evalue": "expected an indented block (3089012973.py, line 16)",
     "output_type": "error",
     "traceback": [
      "\u001b[1;36m  Input \u001b[1;32mIn [216]\u001b[1;36m\u001b[0m\n\u001b[1;33m    def add_cart(self):\u001b[0m\n\u001b[1;37m    ^\u001b[0m\n\u001b[1;31mIndentationError\u001b[0m\u001b[1;31m:\u001b[0m expected an indented block\n"
     ]
    }
   ],
   "source": [
    "class Cart():\n",
    "    def __init__(self, name):\n",
    "        self.cart = {}\n",
    "        self.name = name\n",
    "    \n",
    "    def shopping(self):\n",
    "        print(f\"\\nWelcome to the Shopping Terminal, {self.name.title()}!\")\n",
    "        while True:\n",
    "            response = input(\"\\nwhat would you like to do?'add','delete','show',or 'Quit'?:  \")\n",
    "            if response.lower() == 'add':\n",
    "                self.add_items()\n",
    "            elif response.lower() == 'delete':\n",
    "                self.delitem()\n",
    "            elif response.lower() == 'show':\n",
    "                self.show_all()\n",
    "            elif response.lower() == 'quit':\n",
    "                self.end_cart()\n",
    "                break\n",
    "            else:\n",
    "                print('\\n type \"add\", \"delete\", \"show\" or \"quit\"')\n",
    "                    \n",
    "        \n",
    "    def add_items(self):\n",
    "        item = input(\"\\nWhat are you adding? \")\n",
    "        if item.isdigit():\n",
    "            print(\"\\nplease enter something valid\")\n",
    "            item = self.add_items()\n",
    "        elif item in self.cart:\n",
    "            print(f\"\\nYou have {item} in your cart!\")\n",
    "            response3 = input(f\"\\nWould you like to change the quantity of {item} in your cart? (Y/N) \") \n",
    "            if response3.lower() == 'y':\n",
    "                quantity = Cart.quantity(self)\n",
    "                self.cart[item] = quantity\n",
    "            elif response3.lower() == 'n':\n",
    "                pass\n",
    "            else:\n",
    "                print(\"\\nyou have to enter 'Y' or 'N' \")\n",
    "        else:\n",
    "            quantity = Cart.quantity(self)\n",
    "            self.cart[item] = quantity\n",
    "        return\n",
    "                 \n",
    "    def quantity(self):\n",
    "        quantity = input(\"\\nwhat is the quantity? \")\n",
    "        if quantity.isdigit():\n",
    "            self.quantity = int(quantity)\n",
    "        else:\n",
    "            print(\"\\nplease enter a number!!!!\")\n",
    "            quantity = Cart.quantity(self)\n",
    "        return quantity\n",
    "    \n",
    "    def del_item(self):\n",
    "        print(f'\\Items in Cart: {list(self.cart.keys())}')\n",
    "        item = input(\"\\nWhat item would you like to remove? \")\n",
    "        if item not in self.cart:\n",
    "            print(f\"\\nYou currently do not have any {item}'s in your shopping cart!\")\n",
    "        else:\n",
    "            response_2 = input(\"\\nWould you like to remove all of this item? (Y/N) \")\n",
    "            if response_2.lower() == 'n':\n",
    "                quantity = Cart.quantity(self)\n",
    "                self.cart[item] = int(quantity)\n",
    "            elif response_2 == 'y':\n",
    "                del self.cart[item]\n",
    "            else:\n",
    "                print(\"\\nInvalid Response! Please enter either 'Y' for Yes or 'N' for No.\")\n",
    "        return\n",
    "    \n",
    "    def show_all(self):\n",
    "        print(\"\\nHere is your CURRENT shopping cart:\")\n",
    "        for k, v in self.cart.items():\n",
    "            print(f'{k.title()}: {v}')\n",
    "\n",
    "    def end_cart(self):\n",
    "        print(\"\\nHere is your shopping cart:\")\n",
    "        for k , v in self.cart.items():\n",
    "            print(f\"{k.title()}: {v}\")\n",
    "        print(f\"\\nThank you come again, {self.name.title()}!\")\n",
    "        \n",
    "david = Cart('david')\n",
    "micheal = Cart('micheal')\n",
    "josh = Cart('josh')\n",
    "\n",
    "david.shopping()\n",
    "micheal.shopping()\n",
    "josh.shopping()"
   ]
  },
  {
   "cell_type": "markdown",
   "metadata": {},
   "source": [
    "### Exercise 2 - Write a Python class which has two methods get_String and print_String. get_String accept a string from the user and print_String print the string in upper case"
   ]
  },
  {
   "cell_type": "code",
   "execution_count": null,
   "metadata": {},
   "outputs": [],
   "source": [
    "class String():\n",
    "\n",
    "    def run_program(self):\n",
    "        while True:\n",
    "            if self.get_string() == 'quit':\n",
    "                print(\"\\nthis is a program to run \")\n",
    "                break\n",
    "            self.print_string()\n",
    "\n",
    "\n",
    "    def get_string(self):\n",
    "        string_inp = input(\"\\nenter 'quit' to quit \")\n",
    "        self.string = string\n",
    "        if string.isdigit():\n",
    "            print(\"\\ndont just enter numbers\")\n",
    "            string = self.get_string()\n",
    "\n",
    "        else:\n",
    "            self.string_inp = string_inp\n",
    "        return string\n",
    "    \n",
    "    def print_string(self):\n",
    "\n",
    "        print(f'\\n{self.string.upper()}!')\n",
    "        return\n",
    "\n",
    "\n",
    "s1 = String()\n",
    "\n",
    "s1.run_program()"
   ]
  },
  {
   "cell_type": "code",
   "execution_count": null,
   "metadata": {},
   "outputs": [],
   "source": []
  }
 ],
 "metadata": {
  "kernelspec": {
   "display_name": "Python 3.10.8 64-bit (microsoft store)",
   "language": "python",
   "name": "python3"
  },
  "language_info": {
   "codemirror_mode": {
    "name": "ipython",
    "version": 3
   },
   "file_extension": ".py",
   "mimetype": "text/x-python",
   "name": "python",
   "nbconvert_exporter": "python",
   "pygments_lexer": "ipython3",
   "version": "3.10.8"
  },
  "vscode": {
   "interpreter": {
    "hash": "3c229fae8c2e3f14059af1195bfdb192dc187b734c537d333aa1e5954fe9e6f8"
   }
  }
 },
 "nbformat": 4,
 "nbformat_minor": 2
}
